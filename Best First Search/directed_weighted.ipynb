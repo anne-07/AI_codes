{
 "cells": [
  {
   "cell_type": "code",
   "execution_count": null,
   "id": "afa309ed",
   "metadata": {
    "vscode": {
     "languageId": "plaintext"
    }
   },
   "outputs": [],
   "source": [
    "# Best First Search for Directed Weighted Graph\n",
    "import heapq\n",
    "\n",
    "def read_graph_from_user():\n",
    "    graph = {}\n",
    "    heuristic = {}\n",
    "\n",
    "    num_nodes = int(input(\"Enter number of nodes: \"))\n",
    "    for _ in range(num_nodes):\n",
    "        node = input(\"Enter node name: \").strip()\n",
    "        h = int(input(f\"Enter heuristic value for {node}: \"))\n",
    "        heuristic[node] = h\n",
    "        graph.setdefault(node, [])\n",
    "\n",
    "    num_edges = int(input(\"Enter number of edges: \"))\n",
    "    for _ in range(num_edges):\n",
    "        src = input(\"Enter source node: \").strip()\n",
    "        dest = input(\"Enter destination node: \").strip()\n",
    "        weight = int(input(f\"Enter weight between {src} and {dest}: \"))\n",
    "        graph.setdefault(src, []).append((dest, weight))\n",
    "        graph.setdefault(dest, [])  # Only src to dest (directed)\n",
    "\n",
    "    return graph, heuristic\n",
    "\n",
    "def best_first_search(graph, start, goal, heuristic):\n",
    "    open_list = []\n",
    "    heapq.heappush(open_list, (heuristic[start], [start]))\n",
    "\n",
    "    while open_list:\n",
    "        _, path = heapq.heappop(open_list)\n",
    "        node = path[-1]\n",
    "\n",
    "        if node == goal:\n",
    "            return path\n",
    "\n",
    "        for neighbor, weight in graph.get(node, []):\n",
    "            if neighbor not in path:\n",
    "                heapq.heappush(open_list, (heuristic[neighbor], path + [neighbor]))\n",
    "\n",
    "    return None\n",
    "\n",
    "graph, heuristic = read_graph_from_user()\n",
    "start = input(\"Enter the start node: \").strip()\n",
    "goal = input(\"Enter the goal node: \").strip()\n",
    "\n",
    "if start in graph and goal in graph:\n",
    "    path = best_first_search(graph, start, goal, heuristic)\n",
    "    if path:\n",
    "        print(\"Path from {} to {}: {}\".format(start, goal, ' -> '.join(path)))\n",
    "    else:\n",
    "        print(\"No path found from {} to {}.\".format(start, goal))\n",
    "else:\n",
    "    print(\"Invalid start or goal node.\")\n"
   ]
  }
 ],
 "metadata": {
  "language_info": {
   "name": "python"
  }
 },
 "nbformat": 4,
 "nbformat_minor": 5
}
