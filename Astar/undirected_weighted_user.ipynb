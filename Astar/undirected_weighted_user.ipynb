{
 "cells": [
  {
   "cell_type": "code",
   "execution_count": null,
   "id": "bc052879",
   "metadata": {
    "vscode": {
     "languageId": "plaintext"
    }
   },
   "outputs": [],
   "source": [
    "import heapq\n",
    "\n",
    "def build_undirected_graph_from_input():\n",
    "    graph = {}\n",
    "    n = int(input(\"Enter number of edges: \"))\n",
    "    for _ in range(n):\n",
    "        src = input(\"Source node: \")\n",
    "        dest = input(\"Destination node: \")\n",
    "        weight = int(input(\"Weight: \"))\n",
    "        graph.setdefault(src, []).append((dest, weight))\n",
    "        graph.setdefault(dest, []).append((src, weight))\n",
    "    return graph\n",
    "\n",
    "def astar(graph, start, goal, heuristic):\n",
    "    queue = [(0 + heuristic.get(start, 0), 0, start, [start])]\n",
    "    visited = set()\n",
    "    while queue:\n",
    "        est_total, cost, node, path = heapq.heappop(queue)\n",
    "        if node == goal:\n",
    "            return path, cost\n",
    "        if node in visited:\n",
    "            continue\n",
    "        visited.add(node)\n",
    "        for neighbor, weight in graph.get(node, []):\n",
    "            if neighbor not in visited:\n",
    "                heapq.heappush(queue, (cost + weight + heuristic.get(neighbor, 0), cost + weight, neighbor, path + [neighbor]))\n",
    "    return None, float('inf')\n",
    "\n",
    "def main():\n",
    "    graph = build_undirected_graph_from_input()\n",
    "\n",
    "    # Collect all nodes (src and dest)\n",
    "    heuristic = {}\n",
    "    all_nodes = set(graph.keys())\n",
    "    for edges in graph.values():\n",
    "        for dest, _ in edges:\n",
    "            all_nodes.add(dest)\n",
    "\n",
    "    print(\"\\nEnter heuristic values for each node:\")\n",
    "    for node in all_nodes:\n",
    "        heuristic[node] = int(input(f\"Heuristic value for {node}: \"))\n",
    "\n",
    "    start = input(\"\\nEnter start node: \")\n",
    "    goal = input(\"Enter goal node: \")\n",
    "\n",
    "    path, cost = astar(graph, start, goal, heuristic)\n",
    "    if path:\n",
    "        print(f\"\\nShortest Path: {' -> '.join(path)}\")\n",
    "        print(f\"Total Cost: {cost}\")\n",
    "    else:\n",
    "        print(\"\\nNo path found!\")\n",
    "\n",
    "if __name__ == \"__main__\":\n",
    "    main()\n"
   ]
  }
 ],
 "metadata": {
  "language_info": {
   "name": "python"
  }
 },
 "nbformat": 4,
 "nbformat_minor": 5
}
